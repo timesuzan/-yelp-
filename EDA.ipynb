{
 "cells": [
  {
   "cell_type": "code",
   "execution_count": 6,
   "metadata": {},
   "outputs": [],
   "source": [
    "# IMPORTING ALL THE NECESSARY LIBRARIES AND PACKAGES\n",
    "import pandas as pd\n",
    "import numpy as np\n",
    "import matplotlib.pyplot as plt\n",
    "import seaborn as sns\n",
    "import nltk\n",
    "from nltk.corpus import stopwords\n",
    "import string\n",
    "import math\n",
    "%matplotlib inline"
   ]
  },
  {
   "cell_type": "code",
   "execution_count": 7,
   "metadata": {},
   "outputs": [
    {
     "data": {
      "text/html": [
       "<div>\n",
       "<style scoped>\n",
       "    .dataframe tbody tr th:only-of-type {\n",
       "        vertical-align: middle;\n",
       "    }\n",
       "\n",
       "    .dataframe tbody tr th {\n",
       "        vertical-align: top;\n",
       "    }\n",
       "\n",
       "    .dataframe thead th {\n",
       "        text-align: right;\n",
       "    }\n",
       "</style>\n",
       "<table border=\"1\" class=\"dataframe\">\n",
       "  <thead>\n",
       "    <tr style=\"text-align: right;\">\n",
       "      <th></th>\n",
       "      <th>Unnamed: 0</th>\n",
       "      <th>text</th>\n",
       "      <th>business_id</th>\n",
       "      <th>date</th>\n",
       "      <th>review_id</th>\n",
       "      <th>cool</th>\n",
       "      <th>user_id</th>\n",
       "      <th>funny</th>\n",
       "      <th>useful</th>\n",
       "      <th>review_count</th>\n",
       "      <th>is_open</th>\n",
       "      <th>attributes</th>\n",
       "      <th>categories</th>\n",
       "      <th>yelping_since</th>\n",
       "      <th>fans</th>\n",
       "      <th>review_star</th>\n",
       "      <th>business_star</th>\n",
       "      <th>user_star</th>\n",
       "    </tr>\n",
       "  </thead>\n",
       "  <tbody>\n",
       "    <tr>\n",
       "      <th>0</th>\n",
       "      <td>0</td>\n",
       "      <td>The food is always great here. The service fro...</td>\n",
       "      <td>8zehGz9jnxPqXtOc7KaJxA</td>\n",
       "      <td>2011-07-28 18:05:01</td>\n",
       "      <td>sjm_uUcQVxab_EeLCqsYLg</td>\n",
       "      <td>0</td>\n",
       "      <td>0kA0PAJ8QFMeveQWHFqz2A</td>\n",
       "      <td>0</td>\n",
       "      <td>0</td>\n",
       "      <td>977</td>\n",
       "      <td>0</td>\n",
       "      <td>{'BusinessAcceptsCreditCards': 'True', 'Restau...</td>\n",
       "      <td>Restaurants, French</td>\n",
       "      <td>2010-10-12 00:40:13</td>\n",
       "      <td>2</td>\n",
       "      <td>4.0</td>\n",
       "      <td>4.5</td>\n",
       "      <td>4.15</td>\n",
       "    </tr>\n",
       "    <tr>\n",
       "      <th>1</th>\n",
       "      <td>1</td>\n",
       "      <td>Brasserie zero zero... we were hoping for a te...</td>\n",
       "      <td>8zehGz9jnxPqXtOc7KaJxA</td>\n",
       "      <td>2018-08-04 20:52:32</td>\n",
       "      <td>eiAeuhR3kurAO8rAt_rhlg</td>\n",
       "      <td>0</td>\n",
       "      <td>7zEJt0NVl-lMiMwkCsvteg</td>\n",
       "      <td>0</td>\n",
       "      <td>0</td>\n",
       "      <td>977</td>\n",
       "      <td>0</td>\n",
       "      <td>{'BusinessAcceptsCreditCards': 'True', 'Restau...</td>\n",
       "      <td>Restaurants, French</td>\n",
       "      <td>2012-07-15 22:43:57</td>\n",
       "      <td>0</td>\n",
       "      <td>2.0</td>\n",
       "      <td>4.5</td>\n",
       "      <td>3.56</td>\n",
       "    </tr>\n",
       "    <tr>\n",
       "      <th>2</th>\n",
       "      <td>2</td>\n",
       "      <td>I absolutely love this restaurant. I've been c...</td>\n",
       "      <td>8zehGz9jnxPqXtOc7KaJxA</td>\n",
       "      <td>2014-04-01 02:29:55</td>\n",
       "      <td>Ye8Uh3aBfGoEWgC7DEI8YA</td>\n",
       "      <td>1</td>\n",
       "      <td>32HQqHGHqcDnNteK835C-Q</td>\n",
       "      <td>0</td>\n",
       "      <td>0</td>\n",
       "      <td>977</td>\n",
       "      <td>0</td>\n",
       "      <td>{'BusinessAcceptsCreditCards': 'True', 'Restau...</td>\n",
       "      <td>Restaurants, French</td>\n",
       "      <td>2008-02-15 17:19:41</td>\n",
       "      <td>6</td>\n",
       "      <td>5.0</td>\n",
       "      <td>4.5</td>\n",
       "      <td>4.25</td>\n",
       "    </tr>\n",
       "    <tr>\n",
       "      <th>3</th>\n",
       "      <td>3</td>\n",
       "      <td>I love you, Lucile's. \\r\\n\\r\\nI love your chai...</td>\n",
       "      <td>or-Kyw7kmNin1pWbu2RLJw</td>\n",
       "      <td>2011-07-28 23:27:24</td>\n",
       "      <td>CkDybuShgzu5QD1n5KvXjQ</td>\n",
       "      <td>1</td>\n",
       "      <td>32HQqHGHqcDnNteK835C-Q</td>\n",
       "      <td>1</td>\n",
       "      <td>1</td>\n",
       "      <td>628</td>\n",
       "      <td>1</td>\n",
       "      <td>{'RestaurantsReservations': 'False', 'Business...</td>\n",
       "      <td>Cajun/Creole, Restaurants, Breakfast &amp; Brunch,...</td>\n",
       "      <td>2008-02-15 17:19:41</td>\n",
       "      <td>6</td>\n",
       "      <td>5.0</td>\n",
       "      <td>4.0</td>\n",
       "      <td>4.25</td>\n",
       "    </tr>\n",
       "    <tr>\n",
       "      <th>4</th>\n",
       "      <td>4</td>\n",
       "      <td>Pasta Jays, what can I say? You knocked my soc...</td>\n",
       "      <td>eRlc-vfvnl9ai8RydqZfOw</td>\n",
       "      <td>2011-07-28 23:05:38</td>\n",
       "      <td>D2kXXOT9Fry0nK_UpI7HWg</td>\n",
       "      <td>1</td>\n",
       "      <td>32HQqHGHqcDnNteK835C-Q</td>\n",
       "      <td>0</td>\n",
       "      <td>2</td>\n",
       "      <td>516</td>\n",
       "      <td>1</td>\n",
       "      <td>{'GoodForKids': 'True', 'HasTV': 'True', 'Alco...</td>\n",
       "      <td>Restaurants, Pizza, Italian</td>\n",
       "      <td>2008-02-15 17:19:41</td>\n",
       "      <td>6</td>\n",
       "      <td>3.0</td>\n",
       "      <td>3.5</td>\n",
       "      <td>4.25</td>\n",
       "    </tr>\n",
       "  </tbody>\n",
       "</table>\n",
       "</div>"
      ],
      "text/plain": [
       "   Unnamed: 0                                               text  \\\n",
       "0           0  The food is always great here. The service fro...   \n",
       "1           1  Brasserie zero zero... we were hoping for a te...   \n",
       "2           2  I absolutely love this restaurant. I've been c...   \n",
       "3           3  I love you, Lucile's. \\r\\n\\r\\nI love your chai...   \n",
       "4           4  Pasta Jays, what can I say? You knocked my soc...   \n",
       "\n",
       "              business_id                 date               review_id  cool  \\\n",
       "0  8zehGz9jnxPqXtOc7KaJxA  2011-07-28 18:05:01  sjm_uUcQVxab_EeLCqsYLg     0   \n",
       "1  8zehGz9jnxPqXtOc7KaJxA  2018-08-04 20:52:32  eiAeuhR3kurAO8rAt_rhlg     0   \n",
       "2  8zehGz9jnxPqXtOc7KaJxA  2014-04-01 02:29:55  Ye8Uh3aBfGoEWgC7DEI8YA     1   \n",
       "3  or-Kyw7kmNin1pWbu2RLJw  2011-07-28 23:27:24  CkDybuShgzu5QD1n5KvXjQ     1   \n",
       "4  eRlc-vfvnl9ai8RydqZfOw  2011-07-28 23:05:38  D2kXXOT9Fry0nK_UpI7HWg     1   \n",
       "\n",
       "                  user_id  funny  useful  review_count  is_open  \\\n",
       "0  0kA0PAJ8QFMeveQWHFqz2A      0       0           977        0   \n",
       "1  7zEJt0NVl-lMiMwkCsvteg      0       0           977        0   \n",
       "2  32HQqHGHqcDnNteK835C-Q      0       0           977        0   \n",
       "3  32HQqHGHqcDnNteK835C-Q      1       1           628        1   \n",
       "4  32HQqHGHqcDnNteK835C-Q      0       2           516        1   \n",
       "\n",
       "                                          attributes  \\\n",
       "0  {'BusinessAcceptsCreditCards': 'True', 'Restau...   \n",
       "1  {'BusinessAcceptsCreditCards': 'True', 'Restau...   \n",
       "2  {'BusinessAcceptsCreditCards': 'True', 'Restau...   \n",
       "3  {'RestaurantsReservations': 'False', 'Business...   \n",
       "4  {'GoodForKids': 'True', 'HasTV': 'True', 'Alco...   \n",
       "\n",
       "                                          categories        yelping_since  \\\n",
       "0                                Restaurants, French  2010-10-12 00:40:13   \n",
       "1                                Restaurants, French  2012-07-15 22:43:57   \n",
       "2                                Restaurants, French  2008-02-15 17:19:41   \n",
       "3  Cajun/Creole, Restaurants, Breakfast & Brunch,...  2008-02-15 17:19:41   \n",
       "4                        Restaurants, Pizza, Italian  2008-02-15 17:19:41   \n",
       "\n",
       "   fans  review_star  business_star  user_star  \n",
       "0     2          4.0            4.5       4.15  \n",
       "1     0          2.0            4.5       3.56  \n",
       "2     6          5.0            4.5       4.25  \n",
       "3     6          5.0            4.0       4.25  \n",
       "4     6          3.0            3.5       4.25  "
      ]
     },
     "execution_count": 7,
     "metadata": {},
     "output_type": "execute_result"
    }
   ],
   "source": [
    "data = pd.read_csv('reviews4.csv')\n",
    "data.head()"
   ]
  },
  {
   "cell_type": "code",
   "execution_count": 5,
   "metadata": {},
   "outputs": [
    {
     "name": "stdout",
     "output_type": "stream",
     "text": [
      "515 1491\n"
     ]
    }
   ],
   "source": [
    "review_count_min = data.review_count.min()\n",
    "review_count_max = data.review_count.max()\n",
    "print(review_count_min,review_count_max)"
   ]
  },
  {
   "cell_type": "code",
   "execution_count": 22,
   "metadata": {},
   "outputs": [
    {
     "data": {
      "text/plain": [
       "1.0    1\n",
       "3.0    1\n",
       "5.0    1\n",
       "2.0    1\n",
       "4.0    1\n",
       "dtype: int64"
      ]
     },
     "execution_count": 22,
     "metadata": {},
     "output_type": "execute_result"
    }
   ],
   "source": [
    "# pd.value_counts(data.user_id.unique())\n",
    "pd.value_counts(data.review_star.unique())"
   ]
  },
  {
   "cell_type": "code",
   "execution_count": 21,
   "metadata": {},
   "outputs": [
    {
     "data": {
      "image/png": "[encoded data removed]",
      "text/plain": [
       "<Figure size 576x432 with 1 Axes>"
      ]
     },
     "metadata": {
      "needs_background": "light"
     },
     "output_type": "display_data"
    }
   ],
   "source": [
    "num_bins = 5\n",
    "plt.figure(figsize=(8,6))\n",
    "n, bins, patches = plt.hist(data[\"review_star\"], num_bins, facecolor='red', alpha=0.5)\n",
    "plt.xlabel('review_star')\n",
    "plt.ylabel('Number of Reviews')\n",
    "plt.title('Histogram of review_star')\n",
    "plt.show();"
   ]
  },
  {
   "cell_type": "code",
   "execution_count": 24,
   "metadata": {},
   "outputs": [
    {
     "data": {
      "image/png": "[encoded data removed]",
      "text/plain": [
       "<Figure size 576x288 with 1 Axes>"
      ]
     },
     "metadata": {
      "needs_background": "light"
     },
     "output_type": "display_data"
    }
   ],
   "source": [
    "#Get the distribution of the ratings\n",
    "x=data['business_star'].value_counts()\n",
    "x=x.sort_index()\n",
    "#plot\n",
    "plt.figure(figsize=(8,4))\n",
    "ax= sns.barplot(x.index, x.values, alpha=0.8)\n",
    "plt.title(\"star rating Distribution of 20 businesses\")\n",
    "plt.ylabel('the number of businesses', fontsize=12)\n",
    "plt.xlabel('star ratings', fontsize=12)\n",
    "\n",
    "#adding the text labels\n",
    "rects = ax.patches\n",
    "labels = x.values\n",
    "for rect, label in zip(rects, labels):\n",
    "   height = rect.get_height()\n",
    "   ax.text(rect.get_x() + rect.get_width()/2, height + 5, label, ha='center', va='bottom')\n",
    "\n",
    "plt.show()"
   ]
  },
  {
   "cell_type": "code",
   "execution_count": 28,
   "metadata": {},
   "outputs": [
    {
     "data": {
      "image/png": "[encoded data removed]",
      "text/plain": [
       "<Figure size 576x432 with 1 Axes>"
      ]
     },
     "metadata": {
      "needs_background": "light"
     },
     "output_type": "display_data"
    }
   ],
   "source": [
    "num_bins = 10\n",
    "plt.figure(figsize=(8,6))\n",
    "n, bins, patches = plt.hist(data[\"user_star\"], num_bins, facecolor='red', alpha=0.5)\n",
    "plt.xlabel('review_star')\n",
    "plt.ylabel('the number of users')\n",
    "plt.title('star rating Distribution of users')\n",
    "plt.show();"
   ]
  },
  {
   "cell_type": "code",
   "execution_count": 33,
   "metadata": {},
   "outputs": [
    {
     "name": "stdout",
     "output_type": "stream",
     "text": [
      "               cool         funny        useful   review_star\n",
      "count  16301.000000  16301.000000  16301.000000  16301.000000\n",
      "mean       0.308386      0.203914      0.652659      4.122999\n",
      "std        1.205782      0.908318      1.591684      1.139378\n",
      "min        0.000000      0.000000      0.000000      1.000000\n",
      "25%        0.000000      0.000000      0.000000      4.000000\n",
      "50%        0.000000      0.000000      0.000000      5.000000\n",
      "75%        0.000000      0.000000      1.000000      5.000000\n",
      "max       75.000000     51.000000     76.000000      5.000000\n"
     ]
    }
   ],
   "source": [
    "print(data[['cool','funny','useful','review_star']].describe())"
   ]
  },
  {
   "cell_type": "code",
   "execution_count": 38,
   "metadata": {},
   "outputs": [
    {
     "data": {
      "text/plain": [
       "Text(0.5, 1.0, 'Time series of review number for the hottest restaurants')"
      ]
     },
     "execution_count": 38,
     "metadata": {},
     "output_type": "execute_result"
    },
    {
     "data": {
      "image/png": "[encoded data removed]",
      "text/plain": [
       "<Figure size 432x288 with 1 Axes>"
      ]
     },
     "metadata": {
      "needs_background": "light"
     },
     "output_type": "display_data"
    }
   ],
   "source": [
    "##plot the total number of reviews from 2005 to 2018 for the hottest restaurants\n",
    "data['datetime']=pd.to_datetime(data['date'].values)\n",
    "df=[]\n",
    "df=data[['review_id','datetime']]\n",
    "\n",
    "df.set_index('datetime').resample('A').count().plot()\n",
    "plt.ylabel('Number of all reviews',fontsize=12)\n",
    "plt.xlabel('Year',fontsize=12)\n",
    "plt.title(\"Time series of review number for the hottest restaurants\")"
   ]
  },
  {
   "cell_type": "code",
   "execution_count": null,
   "metadata": {},
   "outputs": [],
   "source": []
  }
 ],
 "metadata": {
  "kernelspec": {
   "display_name": "Python 3",
   "language": "python",
   "name": "python3"
  },
  "language_info": {
   "codemirror_mode": {
    "name": "ipython",
    "version": 3
   },
   "file_extension": ".py",
   "mimetype": "text/x-python",
   "name": "python",
   "nbconvert_exporter": "python",
   "pygments_lexer": "ipython3",
   "version": "3.8.3"
  },
  "toc": {
   "base_numbering": 1,
   "nav_menu": {},
   "number_sections": true,
   "sideBar": true,
   "skip_h1_title": false,
   "title_cell": "Table of Contents",
   "title_sidebar": "Contents",
   "toc_cell": false,
   "toc_position": {},
   "toc_section_display": true,
   "toc_window_display": false
  }
 },
 "nbformat": 4,
 "nbformat_minor": 4
}
